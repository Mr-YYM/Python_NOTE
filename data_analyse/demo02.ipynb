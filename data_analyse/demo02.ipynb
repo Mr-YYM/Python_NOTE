{
 "cells": [
  {
   "cell_type": "code",
   "execution_count": 123,
   "metadata": {},
   "outputs": [],
   "source": [
    "# 网页相关模块\n",
    "import requests\n",
    "import re\n",
    "\n",
    "# 数据分析模块\n",
    "import pandas as pd\n",
    "\n",
    "# 数据可视化模块\n",
    "import matplotlib as mpl\n",
    "import matplotlib.pyplot as plt\n",
    "\n",
    "# 可视化样式调节\n",
    "mpl.style.use('seaborn')\n",
    "plt.rcParams['font.sans-serif'] = ['.PingFang SC']  # 用来正常显示中文标签\n",
    "mpl.rcParams['legend.fontsize'] = 16\n",
    "mpl.rcParams['axes.titlesize'] = 18"
   ]
  },
  {
   "cell_type": "code",
   "execution_count": 124,
   "metadata": {
    "scrolled": true
   },
   "outputs": [],
   "source": [
    "# 爬取网页\n",
    "res = requests.get('http://www.shuichan.cc/article_list-144-663.html')\n",
    "res.encoding = 'gb2312'\n",
    "\n",
    "soup = BeautifulSoup(res.text, 'html5lib')\n",
    "all_tags = soup.findAll(\"a\")\n",
    "p = re.compile('武汉')\n",
    "\n",
    "# 获取所有武汉白沙洲水产市场的网站\n",
    "wuhan_sites = []\n",
    "for n, tag in enumerate(all_tags):\n",
    "    try:\n",
    "        wuhan = p.search(tag['title'])\n",
    "        if wuhan:\n",
    "            wuhan_sites.append(tag['href'])\n",
    "    except KeyError:\n",
    "        pass\n"
   ]
  },
  {
   "cell_type": "code",
   "execution_count": 125,
   "metadata": {},
   "outputs": [],
   "source": [
    "# 读取数据\n",
    "price_tables = []\n",
    "for each_site in wuhan_sites[0:3]:\n",
    "    data = pd.read_html('http://www.shuichan.cc/%s' % each_site)\n",
    "    price_table = data[8]\n",
    "    \n",
    "    # 将第一行作为列名称\n",
    "    new_header = price_table.iloc[0]\n",
    "\n",
    "    price_table.columns = new_header\n",
    "\n",
    "    price_table = price_table[1:]\n",
    "    \n",
    "    price_table = price_table.set_index('分类规格')\n",
    "    \n",
    "    price_tables.append(price_table)"
   ]
  },
  {
   "cell_type": "code",
   "execution_count": 126,
   "metadata": {},
   "outputs": [
    {
     "data": {
      "text/html": [
       "<div>\n",
       "<style scoped>\n",
       "    .dataframe tbody tr th:only-of-type {\n",
       "        vertical-align: middle;\n",
       "    }\n",
       "\n",
       "    .dataframe tbody tr th {\n",
       "        vertical-align: top;\n",
       "    }\n",
       "\n",
       "    .dataframe thead th {\n",
       "        text-align: right;\n",
       "    }\n",
       "</style>\n",
       "<table border=\"1\" class=\"dataframe\">\n",
       "  <thead>\n",
       "    <tr style=\"text-align: right;\">\n",
       "      <th></th>\n",
       "      <th>12月14日</th>\n",
       "      <th>12月10日</th>\n",
       "      <th>12月2日</th>\n",
       "      <th>12月10日</th>\n",
       "      <th>12月2日</th>\n",
       "      <th>11月30日</th>\n",
       "    </tr>\n",
       "    <tr>\n",
       "      <th>分类规格</th>\n",
       "      <th></th>\n",
       "      <th></th>\n",
       "      <th></th>\n",
       "      <th></th>\n",
       "      <th></th>\n",
       "      <th></th>\n",
       "    </tr>\n",
       "  </thead>\n",
       "  <tbody>\n",
       "    <tr>\n",
       "      <th>25-34克</th>\n",
       "      <td>40元/斤</td>\n",
       "      <td>39元/斤</td>\n",
       "      <td>36元/斤</td>\n",
       "      <td>39元/斤</td>\n",
       "      <td>36元/斤</td>\n",
       "      <td>35元/斤</td>\n",
       "    </tr>\n",
       "    <tr>\n",
       "      <th>35-44克</th>\n",
       "      <td>48元/斤</td>\n",
       "      <td>48元/斤</td>\n",
       "      <td>44元/斤</td>\n",
       "      <td>48元/斤</td>\n",
       "      <td>44元/斤</td>\n",
       "      <td>43元/斤</td>\n",
       "    </tr>\n",
       "    <tr>\n",
       "      <th>45-54克</th>\n",
       "      <td>55元/斤</td>\n",
       "      <td>55元/斤</td>\n",
       "      <td>48元/斤</td>\n",
       "      <td>55元/斤</td>\n",
       "      <td>48元/斤</td>\n",
       "      <td>48元/斤</td>\n",
       "    </tr>\n",
       "    <tr>\n",
       "      <th>55-64克</th>\n",
       "      <td>61元/斤</td>\n",
       "      <td>60元/斤</td>\n",
       "      <td>56元/斤</td>\n",
       "      <td>60元/斤</td>\n",
       "      <td>56元/斤</td>\n",
       "      <td>55元/斤</td>\n",
       "    </tr>\n",
       "  </tbody>\n",
       "</table>\n",
       "</div>"
      ],
      "text/plain": [
       "0      12月14日 12月10日  12月2日 12月10日  12月2日 11月30日\n",
       "分类规格                                            \n",
       "25-34克  40元/斤  39元/斤  36元/斤  39元/斤  36元/斤  35元/斤\n",
       "35-44克  48元/斤  48元/斤  44元/斤  48元/斤  44元/斤  43元/斤\n",
       "45-54克  55元/斤  55元/斤  48元/斤  55元/斤  48元/斤  48元/斤\n",
       "55-64克  61元/斤  60元/斤  56元/斤  60元/斤  56元/斤  55元/斤"
      ]
     },
     "execution_count": 126,
     "metadata": {},
     "output_type": "execute_result"
    }
   ],
   "source": [
    "total_table = pd.concat(price_tables, axis=1, join='outer')\n",
    "total_table"
   ]
  },
  {
   "cell_type": "code",
   "execution_count": 127,
   "metadata": {},
   "outputs": [
    {
     "name": "stdout",
     "output_type": "stream",
     "text": [
      "12月14日\n",
      "12月10日\n",
      "12月2日\n",
      "12月10日\n",
      "12月2日\n",
      "11月30日\n"
     ]
    }
   ],
   "source": [
    "for i in total_table:\n",
    "    print(i)"
   ]
  },
  {
   "cell_type": "code",
   "execution_count": 128,
   "metadata": {},
   "outputs": [
    {
     "ename": "AttributeError",
     "evalue": "'DataFrame' object has no attribute 'str'",
     "output_type": "error",
     "traceback": [
      "\u001b[0;31m---------------------------------------------------------------------------\u001b[0m",
      "\u001b[0;31mAttributeError\u001b[0m                            Traceback (most recent call last)",
      "\u001b[0;32m<ipython-input-128-f095062720c0>\u001b[0m in \u001b[0;36m<module>\u001b[0;34m()\u001b[0m\n\u001b[1;32m      1\u001b[0m \u001b[0;31m# 去掉单位\u001b[0m\u001b[0;34m\u001b[0m\u001b[0;34m\u001b[0m\u001b[0m\n\u001b[1;32m      2\u001b[0m \u001b[0;32mfor\u001b[0m \u001b[0mi\u001b[0m \u001b[0;32min\u001b[0m \u001b[0mtotal_table\u001b[0m\u001b[0;34m:\u001b[0m\u001b[0;34m\u001b[0m\u001b[0m\n\u001b[0;32m----> 3\u001b[0;31m     \u001b[0mp\u001b[0m \u001b[0;34m=\u001b[0m \u001b[0mtotal_table\u001b[0m\u001b[0;34m[\u001b[0m\u001b[0mi\u001b[0m\u001b[0;34m]\u001b[0m\u001b[0;34m.\u001b[0m\u001b[0mstr\u001b[0m\u001b[0;34m.\u001b[0m\u001b[0msplit\u001b[0m\u001b[0;34m(\u001b[0m\u001b[0;34m'元'\u001b[0m\u001b[0;34m,\u001b[0m \u001b[0mexpand\u001b[0m \u001b[0;34m=\u001b[0m \u001b[0;32mTrue\u001b[0m\u001b[0;34m)\u001b[0m\u001b[0;34m[\u001b[0m\u001b[0;36m0\u001b[0m\u001b[0;34m]\u001b[0m\u001b[0;34m\u001b[0m\u001b[0m\n\u001b[0m\u001b[1;32m      4\u001b[0m     \u001b[0mprice_table\u001b[0m\u001b[0;34m[\u001b[0m\u001b[0mi\u001b[0m\u001b[0;34m]\u001b[0m \u001b[0;34m=\u001b[0m \u001b[0mp\u001b[0m\u001b[0;34m\u001b[0m\u001b[0m\n",
      "\u001b[0;32m~/anaconda3/lib/python3.7/site-packages/pandas/core/generic.py\u001b[0m in \u001b[0;36m__getattr__\u001b[0;34m(self, name)\u001b[0m\n\u001b[1;32m   4374\u001b[0m             \u001b[0;32mif\u001b[0m \u001b[0mself\u001b[0m\u001b[0;34m.\u001b[0m\u001b[0m_info_axis\u001b[0m\u001b[0;34m.\u001b[0m\u001b[0m_can_hold_identifiers_and_holds_name\u001b[0m\u001b[0;34m(\u001b[0m\u001b[0mname\u001b[0m\u001b[0;34m)\u001b[0m\u001b[0;34m:\u001b[0m\u001b[0;34m\u001b[0m\u001b[0m\n\u001b[1;32m   4375\u001b[0m                 \u001b[0;32mreturn\u001b[0m \u001b[0mself\u001b[0m\u001b[0;34m[\u001b[0m\u001b[0mname\u001b[0m\u001b[0;34m]\u001b[0m\u001b[0;34m\u001b[0m\u001b[0m\n\u001b[0;32m-> 4376\u001b[0;31m             \u001b[0;32mreturn\u001b[0m \u001b[0mobject\u001b[0m\u001b[0;34m.\u001b[0m\u001b[0m__getattribute__\u001b[0m\u001b[0;34m(\u001b[0m\u001b[0mself\u001b[0m\u001b[0;34m,\u001b[0m \u001b[0mname\u001b[0m\u001b[0;34m)\u001b[0m\u001b[0;34m\u001b[0m\u001b[0m\n\u001b[0m\u001b[1;32m   4377\u001b[0m \u001b[0;34m\u001b[0m\u001b[0m\n\u001b[1;32m   4378\u001b[0m     \u001b[0;32mdef\u001b[0m \u001b[0m__setattr__\u001b[0m\u001b[0;34m(\u001b[0m\u001b[0mself\u001b[0m\u001b[0;34m,\u001b[0m \u001b[0mname\u001b[0m\u001b[0;34m,\u001b[0m \u001b[0mvalue\u001b[0m\u001b[0;34m)\u001b[0m\u001b[0;34m:\u001b[0m\u001b[0;34m\u001b[0m\u001b[0m\n",
      "\u001b[0;31mAttributeError\u001b[0m: 'DataFrame' object has no attribute 'str'"
     ]
    }
   ],
   "source": [
    "# 去掉单位\n",
    "for i in total_table:\n",
    "    p = total_table[i].str.split('元', expand = True)[0]\n",
    "    price_table[i] = p"
   ]
  },
  {
   "cell_type": "code",
   "execution_count": null,
   "metadata": {},
   "outputs": [],
   "source": [
    "price_table = price_table.applymap(int)"
   ]
  },
  {
   "cell_type": "code",
   "execution_count": null,
   "metadata": {},
   "outputs": [],
   "source": [
    "price_table"
   ]
  },
  {
   "cell_type": "code",
   "execution_count": null,
   "metadata": {},
   "outputs": [],
   "source": [
    "price_table.T.plot(figsize=[16,10], fontsize=16, title='价格变动')"
   ]
  }
 ],
 "metadata": {
  "kernelspec": {
   "display_name": "Python 3",
   "language": "python",
   "name": "python3"
  },
  "language_info": {
   "codemirror_mode": {
    "name": "ipython",
    "version": 3
   },
   "file_extension": ".py",
   "mimetype": "text/x-python",
   "name": "python",
   "nbconvert_exporter": "python",
   "pygments_lexer": "ipython3",
   "version": "3.7.0"
  }
 },
 "nbformat": 4,
 "nbformat_minor": 2
}
