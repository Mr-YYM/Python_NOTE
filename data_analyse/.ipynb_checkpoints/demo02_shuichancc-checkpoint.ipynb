{
 "cells": [
  {
   "cell_type": "code",
   "execution_count": 1,
   "metadata": {},
   "outputs": [],
   "source": [
    "# 网页相关模块\n",
    "import requests\n",
    "import re\n",
    "from bs4 import BeautifulSoup\n",
    "\n",
    "# 数据分析模块\n",
    "import pandas as pd\n",
    "from datetime import datetime\n",
    "\n",
    "# 数据可视化模块\n",
    "import matplotlib as mpl\n",
    "import matplotlib.pyplot as plt\n",
    "\n",
    "# 可视化样式调节\n",
    "mpl.style.use('seaborn')\n",
    "plt.rcParams['font.sans-serif'] = ['.PingFang SC']  # 用来正常显示中文标签\n",
    "mpl.rcParams['legend.fontsize'] = 20\n",
    "mpl.rcParams['axes.titlesize'] = 18\n",
    "mpl.rcParams['lines.linewidth'] = 4.5\n",
    "mpl.rcParams['axes.labelsize'] = 20\n",
    "mpl.rcParams['lines.markersize'] = 14\n",
    "mpl.rcParams['font.size'] = 16"
   ]
  },
  {
   "cell_type": "code",
   "execution_count": 2,
   "metadata": {
    "scrolled": true
   },
   "outputs": [],
   "source": [
    "# 爬取网页\n",
    "res = requests.get('http://www.shuichan.cc/article_list-144-663-1.html')\n",
    "res.encoding = 'gb2312'\n",
    "\n",
    "soup = BeautifulSoup(res.text, 'html5lib')\n",
    "all_tags = soup.findAll(\"a\")\n",
    "p = re.compile('武汉')\n",
    "\n",
    "# 获取所有武汉白沙洲水产市场的网站\n",
    "wuhan_sites = []\n",
    "for n, tag in enumerate(all_tags):\n",
    "    try:\n",
    "        wuhan = p.search(tag['title'])\n",
    "        if wuhan:\n",
    "            wuhan_sites.append(tag['href'])\n",
    "    except KeyError:\n",
    "        pass\n"
   ]
  },
  {
   "cell_type": "code",
   "execution_count": null,
   "metadata": {},
   "outputs": [
    {
     "name": "stdout",
     "output_type": "stream",
     "text": [
      "有26个网站需要爬取\n",
      "正在爬取与处理第1个网页的数据\n",
      "正在爬取与处理第2个网页的数据\n",
      "正在爬取与处理第3个网页的数据\n",
      "正在爬取与处理第4个网页的数据\n",
      "正在爬取与处理第5个网页的数据\n",
      "正在爬取与处理第6个网页的数据\n",
      "正在爬取与处理第7个网页的数据\n"
     ]
    }
   ],
   "source": [
    "# 读取数据\n",
    "price_tables = []\n",
    "print(\"有%d个网站需要爬取\" % len(wuhan_sites))\n",
    "for n, each_site in enumerate(wuhan_sites):\n",
    "    print(\"正在爬取与处理第%d个网页的数据\" % (n+1))\n",
    "    data = pd.read_html('http://www.shuichan.cc/%s' % each_site)\n",
    "    price_table = data[8]\n",
    "    \n",
    "    # 将第一行作为列名称\n",
    "    new_header = price_table.iloc[0]\n",
    "\n",
    "    price_table.columns = new_header\n",
    "\n",
    "    price_table = price_table[1:]\n",
    "    \n",
    "    price_table = price_table.set_index('分类规格')\n",
    "    \n",
    "    price_tables.append(price_table)"
   ]
  },
  {
   "cell_type": "code",
   "execution_count": null,
   "metadata": {},
   "outputs": [],
   "source": [
    "def get_index_by_drop_duplicated_one(data):\n",
    "    seen = set()\n",
    "    for n, i in enumerate(data):\n",
    "        if i not in seen:\n",
    "            yield n\n",
    "            seen.add(i)\n",
    "            \n",
    "def get_beautiful_date(date_list):\n",
    "    seen = set()\n",
    "    beautiful_list = []\n",
    "    for date in date_list:\n",
    "        p_date = datetime.strptime(date, '%m月%d日')\n",
    "        if p_date.month in seen:\n",
    "            beautiful_list.append(\"%d日\" % p_date.day)\n",
    "        else:\n",
    "            beautiful_list.append(\"%d月\\n%d日\" % (p_date.month, p_date.day))\n",
    "        seen.add(p_date.month)\n",
    "        \n",
    "    return beautiful_list"
   ]
  },
  {
   "cell_type": "code",
   "execution_count": null,
   "metadata": {},
   "outputs": [],
   "source": [
    "total_table = pd.concat(price_tables, axis=1, join='outer') # 合并\n",
    "if \"备注\" in total_table:\n",
    "    total_table.drop(columns=\"备注\", inplace=True)\n",
    "\n",
    "# 删除重复项\n",
    "dci = list(get_index_by_drop_duplicated_one(total_table.columns))\n",
    "total_table = total_table.iloc[:, dci]\n"
   ]
  },
  {
   "cell_type": "code",
   "execution_count": null,
   "metadata": {},
   "outputs": [],
   "source": [
    "# 去掉单位\n",
    "for i in total_table:\n",
    "    p = total_table[i].str.split('元', expand = True)[0]\n",
    "    total_table[i] = p"
   ]
  },
  {
   "cell_type": "code",
   "execution_count": null,
   "metadata": {},
   "outputs": [],
   "source": [
    "total_table = total_table.applymap(int)"
   ]
  },
  {
   "cell_type": "code",
   "execution_count": null,
   "metadata": {},
   "outputs": [],
   "source": [
    "# 重新排序\n",
    "get_p_date = lambda date: datetime.strptime(date, '%m月%d日')\n",
    "p_dates = [get_p_date(date) for date in total_table.columns]\n",
    "p_dates = sorted(p_dates)\n",
    "\n",
    "get_f_date = lambda date: datetime.strftime(date, '%m月%-d日')\n",
    "f_dates = [get_f_date(date) for date in p_dates]\n",
    "\n",
    "total_table = total_table.reindex(f_dates, axis=1)"
   ]
  },
  {
   "cell_type": "code",
   "execution_count": null,
   "metadata": {},
   "outputs": [],
   "source": [
    "gl = lambda i: total_table.T.index.get_loc(i)"
   ]
  },
  {
   "cell_type": "code",
   "execution_count": null,
   "metadata": {},
   "outputs": [],
   "source": [
    "idmax = total_table.T.idxmax()\n",
    "max_xy = zip(map(gl, idmax), total_table.T.max())\n",
    "max_xy = list(max_xy)"
   ]
  },
  {
   "cell_type": "code",
   "execution_count": null,
   "metadata": {},
   "outputs": [],
   "source": [
    "# 精简列名称\n",
    "total_table.columns\n",
    "new_columns = get_beautiful_date(list(total_table.columns))\n",
    "total_table.columns = new_columns"
   ]
  },
  {
   "cell_type": "code",
   "execution_count": null,
   "metadata": {
    "scrolled": true
   },
   "outputs": [],
   "source": [
    "a = total_table.T['25-34克'].idxmax()"
   ]
  },
  {
   "cell_type": "code",
   "execution_count": null,
   "metadata": {},
   "outputs": [],
   "source": [
    "plot = total_table.T.plot(figsize=[20,12], fontsize=16, title='武汉水产市场价格变动', xticks=range(len(total_table.columns)), marker=\"o\")\n",
    "plot.set_ylabel('价格')\n",
    "plot.set_xlabel('日期')\n",
    "for xy in max_xy:\n",
    "    plot.annotate('max', xy=xy, xycoords='data', xytext=xy,\n",
    "                  textcoords='offset points', size=18,\n",
    "                  arrowprops=dict(arrowstyle='-', connectionstyle=\"arc3,rad=.5\"))\n",
    "# plot."
   ]
  },
  {
   "cell_type": "code",
   "execution_count": null,
   "metadata": {},
   "outputs": [],
   "source": [
    "fig = plot.get_figure()\n",
    "fig.savefig('result.svg')\n",
    "\n",
    "plt.show()"
   ]
  },
  {
   "cell_type": "code",
   "execution_count": null,
   "metadata": {},
   "outputs": [],
   "source": [
    "for xy in max_xy:\n",
    "    print(xy)"
   ]
  }
 ],
 "metadata": {
  "kernelspec": {
   "display_name": "Python 3",
   "language": "python",
   "name": "python3"
  },
  "language_info": {
   "codemirror_mode": {
    "name": "ipython",
    "version": 3
   },
   "file_extension": ".py",
   "mimetype": "text/x-python",
   "name": "python",
   "nbconvert_exporter": "python",
   "pygments_lexer": "ipython3",
   "version": "3.7.0"
  }
 },
 "nbformat": 4,
 "nbformat_minor": 2
}
